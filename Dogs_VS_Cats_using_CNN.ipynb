{
 "cells": [
  {
   "cell_type": "code",
   "execution_count": 1,
   "id": "6d2be4cc",
   "metadata": {},
   "outputs": [
    {
     "name": "stdout",
     "output_type": "stream",
     "text": [
      "WARNING:tensorflow:From C:\\Users\\shaik\\anaconda3\\Lib\\site-packages\\keras\\src\\losses.py:2976: The name tf.losses.sparse_softmax_cross_entropy is deprecated. Please use tf.compat.v1.losses.sparse_softmax_cross_entropy instead.\n",
      "\n"
     ]
    }
   ],
   "source": [
    "import tensorflow as tf"
   ]
  },
  {
   "cell_type": "code",
   "execution_count": 2,
   "id": "3217bc6f",
   "metadata": {},
   "outputs": [],
   "source": [
    "from keras.preprocessing.image import ImageDataGenerator"
   ]
  },
  {
   "cell_type": "code",
   "execution_count": 3,
   "id": "0971ce1a",
   "metadata": {},
   "outputs": [],
   "source": [
    "#DATA PREPROCESSING"
   ]
  },
  {
   "cell_type": "code",
   "execution_count": 4,
   "id": "c8fc267c",
   "metadata": {},
   "outputs": [
    {
     "name": "stdout",
     "output_type": "stream",
     "text": [
      "Found 8005 images belonging to 2 classes.\n"
     ]
    }
   ],
   "source": [
    "train_datagen = ImageDataGenerator(\n",
    "    rescale=1./255,\n",
    "    shear_range=0.2,\n",
    "    zoom_range=0.2,\n",
    "    horizontal_flip=True)\n",
    "\n",
    "train_generator = train_datagen.flow_from_directory(\n",
    "    'C:/Users/shaik/OneDrive/Documents/Dataset_CNN/training_set/training_set',\n",
    "    target_size=(64,64),\n",
    "    batch_size=32,\n",
    "    class_mode='binary')"
   ]
  },
  {
   "cell_type": "code",
   "execution_count": 5,
   "id": "2e2c9844",
   "metadata": {},
   "outputs": [
    {
     "name": "stdout",
     "output_type": "stream",
     "text": [
      "Found 2023 images belonging to 2 classes.\n"
     ]
    }
   ],
   "source": [
    "test_datagen = ImageDataGenerator(rescale=1./255)\n",
    "test_generator = test_datagen.flow_from_directory(\n",
    "    'C:/Users/shaik/OneDrive/Documents/Dataset_CNN/test_set/test_set',\n",
    "    target_size=(64,64),\n",
    "    batch_size=32,\n",
    "    class_mode='binary')"
   ]
  },
  {
   "cell_type": "code",
   "execution_count": 6,
   "id": "866e4362",
   "metadata": {},
   "outputs": [],
   "source": [
    "#BUILD CNN MODEL\n",
    "#INITIALIZE"
   ]
  },
  {
   "cell_type": "code",
   "execution_count": 7,
   "id": "ecd1147f",
   "metadata": {},
   "outputs": [
    {
     "name": "stdout",
     "output_type": "stream",
     "text": [
      "WARNING:tensorflow:From C:\\Users\\shaik\\anaconda3\\Lib\\site-packages\\keras\\src\\backend.py:873: The name tf.get_default_graph is deprecated. Please use tf.compat.v1.get_default_graph instead.\n",
      "\n"
     ]
    }
   ],
   "source": [
    "cnn = tf.keras.models.Sequential()"
   ]
  },
  {
   "cell_type": "code",
   "execution_count": 8,
   "id": "3c94dc94",
   "metadata": {},
   "outputs": [],
   "source": [
    "#CONVOLUTION"
   ]
  },
  {
   "cell_type": "code",
   "execution_count": 9,
   "id": "bac15013",
   "metadata": {},
   "outputs": [],
   "source": [
    "cnn.add(tf.keras.layers.Conv2D(filters = 32, kernel_size = 3, activation = 'relu', input_shape = [64,64,3]))"
   ]
  },
  {
   "cell_type": "code",
   "execution_count": 10,
   "id": "49acce19",
   "metadata": {},
   "outputs": [],
   "source": [
    "#POOLING"
   ]
  },
  {
   "cell_type": "code",
   "execution_count": 11,
   "id": "4e0bf936",
   "metadata": {},
   "outputs": [
    {
     "name": "stdout",
     "output_type": "stream",
     "text": [
      "WARNING:tensorflow:From C:\\Users\\shaik\\anaconda3\\Lib\\site-packages\\keras\\src\\layers\\pooling\\max_pooling2d.py:161: The name tf.nn.max_pool is deprecated. Please use tf.nn.max_pool2d instead.\n",
      "\n"
     ]
    }
   ],
   "source": [
    "cnn.add(tf.keras.layers.MaxPool2D(pool_size = 2, strides = 2))"
   ]
  },
  {
   "cell_type": "code",
   "execution_count": 12,
   "id": "3bdbf862",
   "metadata": {},
   "outputs": [],
   "source": [
    "#ADD 1 MORE LAYER"
   ]
  },
  {
   "cell_type": "code",
   "execution_count": 13,
   "id": "0dced73f",
   "metadata": {},
   "outputs": [],
   "source": [
    "cnn.add(tf.keras.layers.Conv2D(filters = 32, kernel_size = 3, activation = 'relu'))\n",
    "cnn.add(tf.keras.layers.MaxPool2D(pool_size = 2, strides = 2))"
   ]
  },
  {
   "cell_type": "code",
   "execution_count": 14,
   "id": "7fa77162",
   "metadata": {},
   "outputs": [],
   "source": [
    "#FLATTEN"
   ]
  },
  {
   "cell_type": "code",
   "execution_count": 15,
   "id": "123a4214",
   "metadata": {},
   "outputs": [],
   "source": [
    "cnn.add(tf.keras.layers.Flatten())"
   ]
  },
  {
   "cell_type": "code",
   "execution_count": 16,
   "id": "3e7d738e",
   "metadata": {},
   "outputs": [],
   "source": [
    "#FULL CONNECTION"
   ]
  },
  {
   "cell_type": "code",
   "execution_count": 17,
   "id": "5acdde83",
   "metadata": {},
   "outputs": [],
   "source": [
    "cnn.add(tf.keras.layers.Dense(units = 128, activation = 'relu'))"
   ]
  },
  {
   "cell_type": "code",
   "execution_count": 18,
   "id": "975f997d",
   "metadata": {},
   "outputs": [],
   "source": [
    "#OUTPUT LAYER"
   ]
  },
  {
   "cell_type": "code",
   "execution_count": 19,
   "id": "998f6474",
   "metadata": {},
   "outputs": [],
   "source": [
    "cnn.add(tf.keras.layers.Dense(units = 1, activation = 'sigmoid'))"
   ]
  },
  {
   "cell_type": "code",
   "execution_count": 20,
   "id": "d60c6020",
   "metadata": {},
   "outputs": [],
   "source": [
    "#COMPILE THE MODEL"
   ]
  },
  {
   "cell_type": "code",
   "execution_count": 21,
   "id": "350bd093",
   "metadata": {},
   "outputs": [
    {
     "name": "stdout",
     "output_type": "stream",
     "text": [
      "WARNING:tensorflow:From C:\\Users\\shaik\\anaconda3\\Lib\\site-packages\\keras\\src\\optimizers\\__init__.py:309: The name tf.train.Optimizer is deprecated. Please use tf.compat.v1.train.Optimizer instead.\n",
      "\n"
     ]
    }
   ],
   "source": [
    "cnn.compile(optimizer = 'adam', loss = 'binary_crossentropy', metrics = ['accuracy'])"
   ]
  },
  {
   "cell_type": "code",
   "execution_count": 22,
   "id": "20a8ca97",
   "metadata": {},
   "outputs": [],
   "source": [
    "#TRAIN THE MODEL"
   ]
  },
  {
   "cell_type": "code",
   "execution_count": 23,
   "id": "3dc903c0",
   "metadata": {},
   "outputs": [
    {
     "name": "stdout",
     "output_type": "stream",
     "text": [
      "Epoch 1/20\n",
      "WARNING:tensorflow:From C:\\Users\\shaik\\anaconda3\\Lib\\site-packages\\keras\\src\\utils\\tf_utils.py:492: The name tf.ragged.RaggedTensorValue is deprecated. Please use tf.compat.v1.ragged.RaggedTensorValue instead.\n",
      "\n",
      "WARNING:tensorflow:From C:\\Users\\shaik\\anaconda3\\Lib\\site-packages\\keras\\src\\engine\\base_layer_utils.py:384: The name tf.executing_eagerly_outside_functions is deprecated. Please use tf.compat.v1.executing_eagerly_outside_functions instead.\n",
      "\n",
      "251/251 [==============================] - 202s 791ms/step - loss: 0.6736 - accuracy: 0.5750 - val_loss: 0.6571 - val_accuracy: 0.6228\n",
      "Epoch 2/20\n",
      "251/251 [==============================] - 405s 2s/step - loss: 0.6319 - accuracy: 0.6462 - val_loss: 0.6273 - val_accuracy: 0.6579\n",
      "Epoch 3/20\n",
      "251/251 [==============================] - 109s 435ms/step - loss: 0.5892 - accuracy: 0.6859 - val_loss: 0.5789 - val_accuracy: 0.6995\n",
      "Epoch 4/20\n",
      "251/251 [==============================] - 231s 922ms/step - loss: 0.5463 - accuracy: 0.7164 - val_loss: 0.5154 - val_accuracy: 0.7469\n",
      "Epoch 5/20\n",
      "251/251 [==============================] - 85s 337ms/step - loss: 0.5148 - accuracy: 0.7502 - val_loss: 0.5301 - val_accuracy: 0.7390\n",
      "Epoch 6/20\n",
      "251/251 [==============================] - 92s 368ms/step - loss: 0.4939 - accuracy: 0.7568 - val_loss: 0.5156 - val_accuracy: 0.7533\n",
      "Epoch 7/20\n",
      "251/251 [==============================] - 84s 336ms/step - loss: 0.4725 - accuracy: 0.7706 - val_loss: 0.5890 - val_accuracy: 0.7306\n",
      "Epoch 8/20\n",
      "251/251 [==============================] - 84s 336ms/step - loss: 0.4507 - accuracy: 0.7898 - val_loss: 0.5252 - val_accuracy: 0.7499\n",
      "Epoch 9/20\n",
      "251/251 [==============================] - 83s 331ms/step - loss: 0.4370 - accuracy: 0.7903 - val_loss: 0.4772 - val_accuracy: 0.7706\n",
      "Epoch 10/20\n",
      "251/251 [==============================] - 83s 332ms/step - loss: 0.4165 - accuracy: 0.8076 - val_loss: 0.4637 - val_accuracy: 0.7954\n",
      "Epoch 11/20\n",
      "251/251 [==============================] - 84s 333ms/step - loss: 0.3958 - accuracy: 0.8186 - val_loss: 0.5339 - val_accuracy: 0.7454\n",
      "Epoch 12/20\n",
      "251/251 [==============================] - 84s 333ms/step - loss: 0.3831 - accuracy: 0.8247 - val_loss: 0.4764 - val_accuracy: 0.7904\n",
      "Epoch 13/20\n",
      "251/251 [==============================] - 84s 335ms/step - loss: 0.3668 - accuracy: 0.8357 - val_loss: 0.4793 - val_accuracy: 0.7944\n",
      "Epoch 14/20\n",
      "251/251 [==============================] - 84s 334ms/step - loss: 0.3495 - accuracy: 0.8453 - val_loss: 0.5190 - val_accuracy: 0.7830\n",
      "Epoch 15/20\n",
      "251/251 [==============================] - 82s 327ms/step - loss: 0.3405 - accuracy: 0.8471 - val_loss: 0.4640 - val_accuracy: 0.8097\n",
      "Epoch 16/20\n",
      "251/251 [==============================] - 239s 956ms/step - loss: 0.3195 - accuracy: 0.8603 - val_loss: 0.4795 - val_accuracy: 0.8072\n",
      "Epoch 17/20\n",
      "251/251 [==============================] - 127s 508ms/step - loss: 0.3094 - accuracy: 0.8675 - val_loss: 0.4854 - val_accuracy: 0.7939\n",
      "Epoch 18/20\n",
      "251/251 [==============================] - 81s 321ms/step - loss: 0.2917 - accuracy: 0.8765 - val_loss: 0.5223 - val_accuracy: 0.7939\n",
      "Epoch 19/20\n",
      "251/251 [==============================] - 80s 320ms/step - loss: 0.2771 - accuracy: 0.8832 - val_loss: 0.4910 - val_accuracy: 0.8077\n",
      "Epoch 20/20\n",
      "251/251 [==============================] - 82s 327ms/step - loss: 0.2593 - accuracy: 0.8929 - val_loss: 0.5390 - val_accuracy: 0.7963\n"
     ]
    }
   ],
   "source": [
    "history = cnn.fit(x = train_generator, validation_data = test_generator, epochs = 20)"
   ]
  },
  {
   "cell_type": "code",
   "execution_count": 24,
   "id": "114810a6",
   "metadata": {},
   "outputs": [],
   "source": [
    "#MAKE SINGLE PREDICTION"
   ]
  },
  {
   "cell_type": "code",
   "execution_count": 26,
   "id": "5e5dbeae",
   "metadata": {},
   "outputs": [
    {
     "name": "stdout",
     "output_type": "stream",
     "text": [
      "1/1 [==============================] - 0s 69ms/step\n"
     ]
    },
    {
     "data": {
      "text/plain": [
       "'cat'"
      ]
     },
     "execution_count": 26,
     "metadata": {},
     "output_type": "execute_result"
    }
   ],
   "source": [
    "import numpy as np\n",
    "from keras.preprocessing import image\n",
    "test_image = image.load_img(\"C:/Users/shaik/OneDrive/Documents/Dataset_CNN/single_prediction/cat_test.jpg\", target_size = (64,64))\n",
    "test_image = image.img_to_array(test_image)\n",
    "test_image = np.expand_dims(test_image, axis=0)\n",
    "result = cnn.predict(test_image)\n",
    "train_generator.class_indices\n",
    "if result[0][0] == 1:\n",
    "    prediction = 'dog'\n",
    "else:\n",
    "    prediction = 'cat'\n",
    "    \n",
    "prediction    "
   ]
  },
  {
   "cell_type": "code",
   "execution_count": 27,
   "id": "1a5d5ec8",
   "metadata": {},
   "outputs": [
    {
     "name": "stdout",
     "output_type": "stream",
     "text": [
      "dict_keys(['loss', 'accuracy', 'val_loss', 'val_accuracy'])\n"
     ]
    }
   ],
   "source": [
    "import matplotlib.pyplot as plt\n",
    "print(history.history.keys())"
   ]
  },
  {
   "cell_type": "code",
   "execution_count": 29,
   "id": "f545d136",
   "metadata": {},
   "outputs": [
    {
     "data": {
      "text/plain": [
       "[<matplotlib.lines.Line2D at 0x284df7a1410>]"
      ]
     },
     "execution_count": 29,
     "metadata": {},
     "output_type": "execute_result"
    },
    {
     "data": {
      "image/png": "[encoded data removed]",
      "text/plain": [
       "<Figure size 640x480 with 1 Axes>"
      ]
     },
     "metadata": {},
     "output_type": "display_data"
    }
   ],
   "source": [
    "plt.plot(history.history['accuracy'])\n",
    "plt.plot(history.history['val_loss'])\n",
    "plt.plot(history.history['val_accuracy'])"
   ]
  },
  {
   "cell_type": "code",
   "execution_count": null,
   "id": "01732dbc",
   "metadata": {},
   "outputs": [],
   "source": []
  }
 ],
 "metadata": {
  "kernelspec": {
   "display_name": "Python 3 (ipykernel)",
   "language": "python",
   "name": "python3"
  },
  "language_info": {
   "codemirror_mode": {
    "name": "ipython",
    "version": 3
   },
   "file_extension": ".py",
   "mimetype": "text/x-python",
   "name": "python",
   "nbconvert_exporter": "python",
   "pygments_lexer": "ipython3",
   "version": "3.11.5"
  }
 },
 "nbformat": 4,
 "nbformat_minor": 5
}
